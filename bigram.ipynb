{
 "cells": [
  {
   "cell_type": "code",
   "execution_count": 1,
   "metadata": {},
   "outputs": [
    {
     "name": "stdout",
     "output_type": "stream",
     "text": [
      "Current Device: cuda\n"
     ]
    }
   ],
   "source": [
    "#imports\n",
    "import torch\n",
    "import torch.nn as nn\n",
    "from torch.nn import functional as F\n",
    "\n",
    "#switches device to cuda (gpu) and detects if switch was successful\n",
    "device = 'cuda' if torch.cuda.is_available() else 'cpu'\n",
    "print(\"Current Device: \" + device)\n",
    "\n",
    "#declare constants\n",
    "block_size = 8\n",
    "batch_size = 4\n",
    "max_iters = 10000\n",
    "learning_rate = 3e-4"
   ]
  },
  {
   "cell_type": "code",
   "execution_count": 23,
   "metadata": {},
   "outputs": [
    {
     "name": "stdout",
     "output_type": "stream",
     "text": [
      "['\\n', ' ', '!', '\"', '&', \"'\", '(', ')', '*', ',', '-', '.', '0', '1', '2', '3', '4', '5', '6', '7', '8', '9', ':', ';', '?', 'A', 'B', 'C', 'D', 'E', 'F', 'G', 'H', 'I', 'J', 'K', 'L', 'M', 'N', 'O', 'P', 'Q', 'R', 'S', 'T', 'U', 'V', 'W', 'X', 'Y', 'Z', '[', ']', '_', 'a', 'b', 'c', 'd', 'e', 'f', 'g', 'h', 'i', 'j', 'k', 'l', 'm', 'n', 'o', 'p', 'q', 'r', 's', 't', 'u', 'v', 'w', 'x', 'y', 'z', '\\ufeff']\n"
     ]
    }
   ],
   "source": [
    "#opens the training data with the correct encoding\n",
    "with open('wizard_of_oz.txt', 'r', encoding='utf-8') as f:\n",
    "    text = f.read()\n",
    "\n",
    "#gets the llm alphabet\n",
    "chars = sorted(set(text))\n",
    "print(chars)\n",
    "vocab_size = len(chars)"
   ]
  },
  {
   "cell_type": "code",
   "execution_count": 24,
   "metadata": {},
   "outputs": [
    {
     "name": "stdout",
     "output_type": "stream",
     "text": [
      "tensor([80,  1,  1, 28, 39, 42, 39, 44, 32, 49,  1, 25, 38, 28,  1, 44, 32, 29,\n",
      "         1, 47, 33, 50, 25, 42, 28,  1, 33, 38,  1, 39, 50,  0,  0,  1,  1, 26,\n",
      "        49,  0,  0,  1,  1, 36, 11,  1, 30, 42, 25, 38, 35,  1, 26, 25, 45, 37,\n",
      "         0,  0,  1,  1, 25, 45, 44, 32, 39, 42,  1, 39, 30,  1, 44, 32, 29,  1,\n",
      "        47, 33, 50, 25, 42, 28,  1, 39, 30,  1, 39, 50,  9,  1, 44, 32, 29,  1,\n",
      "        36, 25, 38, 28,  1, 39, 30,  1, 39, 50])\n"
     ]
    }
   ],
   "source": [
    "#encoder and decoder for the alphabet\n",
    "string_to_int = { ch:i for i,ch in enumerate(chars) }\n",
    "int_to_string = { i:ch for i,ch in enumerate(chars) }\n",
    "encode = lambda s: [string_to_int[c] for c in s]\n",
    "decode = lambda l: ''.join([int_to_string[i] for i in l])\n",
    "\n",
    "#encodes the training data\n",
    "data = torch.tensor(encode(text), dtype=torch.long)"
   ]
  },
  {
   "cell_type": "code",
   "execution_count": 25,
   "metadata": {},
   "outputs": [
    {
     "name": "stdout",
     "output_type": "stream",
     "text": [
      "tensor([165877, 147308,  19809,  14630])\n",
      "inputs:\n",
      "tensor([[79, 11,  3,  0,  0,  3, 28, 68],\n",
      "        [74, 67, 57,  1, 62, 73, 72,  1],\n",
      "        [68, 75, 58, 71,  1, 72, 74, 56],\n",
      "        [78,  1, 66, 68, 71, 58,  1, 59]], device='cuda:0')\n",
      "targets:\n",
      "tensor([[11,  3,  0,  0,  3, 28, 68, 67],\n",
      "        [67, 57,  1, 62, 73, 72,  1, 58],\n",
      "        [75, 58, 71,  1, 72, 74, 56, 61],\n",
      "        [ 1, 66, 68, 71, 58,  1, 59, 71]], device='cuda:0')\n"
     ]
    }
   ],
   "source": [
    "#sets training data to 80% of the text and allocates the rest for validation\n",
    "n = int(0.8*len(data))\n",
    "train_data = data[:n]\n",
    "val_data = data[n:]\n",
    "\n",
    "def get_batch(split):\n",
    "    #sets the train and val split for the batch\n",
    "    data = train_data if split == 'train' else val_data\n",
    "    \n",
    "    #gets a batch of random indices\n",
    "    ix = torch.randint(len(data) - block_size, (batch_size,))\n",
    "    \n",
    "    #sets \"batch\" number of input and target vectors of size \"block_size\"\n",
    "    x = torch.stack([data[i:i + block_size] for i in ix])\n",
    "    y = torch.stack([data[i+1:i + block_size + 1] for i in ix])\n",
    "    x,y = x.to(device), y.to(device)\n",
    "    return x, y\n",
    "\n",
    "''' Check get_batch()\n",
    "\n",
    "x, y = get_batch('train')\n",
    "print('inputs:')\n",
    "print(x)\n",
    "print('targets:')\n",
    "print(y)\n",
    "'''"
   ]
  },
  {
   "cell_type": "code",
   "execution_count": 26,
   "metadata": {},
   "outputs": [
    {
     "name": "stdout",
     "output_type": "stream",
     "text": [
      "when input is  tensor([80])  target is  tensor(1)\n",
      "when input is  tensor([80,  1])  target is  tensor(1)\n",
      "when input is  tensor([80,  1,  1])  target is  tensor(28)\n",
      "when input is  tensor([80,  1,  1, 28])  target is  tensor(39)\n",
      "when input is  tensor([80,  1,  1, 28, 39])  target is  tensor(42)\n",
      "when input is  tensor([80,  1,  1, 28, 39, 42])  target is  tensor(39)\n",
      "when input is  tensor([80,  1,  1, 28, 39, 42, 39])  target is  tensor(44)\n",
      "when input is  tensor([80,  1,  1, 28, 39, 42, 39, 44])  target is  tensor(32)\n"
     ]
    }
   ],
   "source": [
    "x = train_data[:block_size]\n",
    "y = train_data[1:block_size + 1]\n",
    "\n",
    "''' show what program sees as input and shows target\n",
    "\n",
    "for t in range(block_size):\n",
    "    context = x[:t+1]\n",
    "    target = y[t]\n",
    "    print('when input is ', context, ' target is ', target)\n",
    "'''"
   ]
  },
  {
   "cell_type": "code",
   "execution_count": 29,
   "metadata": {},
   "outputs": [
    {
     "name": "stdout",
     "output_type": "stream",
     "text": [
      "\n",
      "wMMtQmNb&\n",
      "&8!:fuZWeOG33_R-!I﻿N0bNAZanO:,4&,T2Gm'qaF(cebjj*zjeSqJ;i,xhmxhg'Q*;xgnx'Wy ngE:7Z3i_'It?6'Sulihmn*B25z;9Y5f\n",
      "AQ0SmBfY6U(?aro8TnxCXtW\n",
      "zB]F(VcA0:u﻿e\n",
      "ZhXJ,je5;TA&\"1fzSxcq\n",
      "!I3t TGZae\n",
      "t6XmN6'L(J,A52;LOyEjvN2:Epo1:G:3e\n",
      "*wRMt4UU(:9ZaeMtDTax8D]M\"*?4bcRSv﻿Pcego2TF''1D6WO:!'xhK-,cMtCp5&1hkxn\n",
      ",9t PItd\n",
      "Y*BhX1bivfvu33tvyimaphAPbx,q'8_RMk2I\n",
      "_tcT.b)Db TRG,A[g T&''99?L56n2MqS\" HL;hO:wjn PmSJhN2mu3YjyFK'583t*.Gaxh06ekjDQL7Vn﻿.Ho CTcTLhcZ R0reMkhPXj(hv;Jf9bvVr \",Ab \"GNup5XIj''1?OrhCBo8XLhg\n",
      "S!jvkcBMLn(dIj\n"
     ]
    }
   ],
   "source": [
    "class BigramLanguageModel(nn.Module):\n",
    "    #llm constructor\n",
    "    def __init__(self, vocab_size):\n",
    "        super().__init__()\n",
    "        #create an embedding table\n",
    "        self.token_embedding_table = nn.Embedding(vocab_size, vocab_size)\n",
    "    \n",
    "    # forward pass method that takes input of \"index\" and \"target\" and computes predictions for the next token in the sequence\n",
    "    def forward(self, index, targets=None):\n",
    "        #creates logits (unnormalized predictions) from the input text and the embedding table\n",
    "        logits = self.token_embedding_table(index)\n",
    "        \n",
    "        #loss calculations\n",
    "        if targets is None:\n",
    "            #sets loss to none if no targets are input\n",
    "            loss = None\n",
    "        else:\n",
    "            B, T, C = logits.shape\n",
    "            logits = logits.view(B*T, C)\n",
    "            targets = targets.view(B*T)\n",
    "            #calculates loss of generated text based on targets\n",
    "            loss = F.cross_entropy(logits, targets)\n",
    "        \n",
    "        return logits, loss\n",
    "    \n",
    "    #generates \"max_new_tokens\" number of new tokens based on the input \"index\"\n",
    "    def generate(self, index, max_new_tokens):\n",
    "        #generates new tokens one at a time\n",
    "        for _ in range(max_new_tokens):\n",
    "            logits, loss = self.forward(index)\n",
    "            #gets the new token in the sequence\n",
    "            logits = logits[:,-1,:]\n",
    "            #generates and samples probibility distribution for next character and appends it to index\n",
    "            probs = F.softmax(logits, dim = -1)\n",
    "            index_next = torch.multinomial(probs, num_samples = 1)\n",
    "            index = torch.cat((index, index_next), dim = 1)\n",
    "        return index\n",
    "    \n",
    "model = BigramLanguageModel(vocab_size)\n",
    "m = model.to(device)\n",
    "\n",
    "context = torch.zeros((1, 1), dtype=torch.long, device=device)\n",
    "generated_chars = decode(m.generate(context, max_new_tokens=500)[0].tolist())\n",
    "print(generated_chars)"
   ]
  },
  {
   "cell_type": "code",
   "execution_count": null,
   "metadata": {},
   "outputs": [],
   "source": [
    "optimizer = torch.optim.AdamW(model.parameters(), lr=learning_rate)\n",
    "\n",
    "for iter in range(max_iters):\n",
    "    xb, yb = get_batch('train')\n",
    "    \n",
    "    logits, loss = model.forward(xb, yb)\n",
    "    optimizer.zero_grad(set_to_none=True)\n",
    "    loss.backward()\n",
    "    optimizer.step()\n",
    "print(loss.item())"
   ]
  }
 ],
 "metadata": {
  "kernelspec": {
   "display_name": "cude-gpt",
   "language": "python",
   "name": "cuda"
  },
  "language_info": {
   "codemirror_mode": {
    "name": "ipython",
    "version": 3
   },
   "file_extension": ".py",
   "mimetype": "text/x-python",
   "name": "python",
   "nbconvert_exporter": "python",
   "pygments_lexer": "ipython3",
   "version": "3.11.4"
  }
 },
 "nbformat": 4,
 "nbformat_minor": 4
}
