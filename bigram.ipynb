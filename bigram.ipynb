{
 "cells": [
  {
   "cell_type": "code",
   "execution_count": 1,
   "metadata": {},
   "outputs": [
    {
     "name": "stdout",
     "output_type": "stream",
     "text": [
      "Current Device: cuda\n"
     ]
    }
   ],
   "source": [
    "#imports\n",
    "import torch\n",
    "import torch.nn as nn\n",
    "from torch.nn import functional as F\n",
    "\n",
    "#switches device to cuda (gpu) and detects if switch was successful\n",
    "device = 'cuda' if torch.cuda.is_available() else 'cpu'\n",
    "print(\"Current Device: \" + device)\n",
    "\n",
    "#declare constants\n",
    "block_size = 8\n",
    "batch_size = 4\n",
    "max_iters = 10000\n",
    "learning_rate = 3e-4\n",
    "eval_iters = 250\n",
    "dropout = 0.2"
   ]
  },
  {
   "cell_type": "code",
   "execution_count": 2,
   "metadata": {},
   "outputs": [
    {
     "name": "stdout",
     "output_type": "stream",
     "text": [
      "['\\n', ' ', '!', '\"', '&', \"'\", '(', ')', '*', ',', '-', '.', '0', '1', '2', '3', '4', '5', '6', '7', '8', '9', ':', ';', '?', 'A', 'B', 'C', 'D', 'E', 'F', 'G', 'H', 'I', 'J', 'K', 'L', 'M', 'N', 'O', 'P', 'Q', 'R', 'S', 'T', 'U', 'V', 'W', 'X', 'Y', 'Z', '[', ']', '_', 'a', 'b', 'c', 'd', 'e', 'f', 'g', 'h', 'i', 'j', 'k', 'l', 'm', 'n', 'o', 'p', 'q', 'r', 's', 't', 'u', 'v', 'w', 'x', 'y', 'z', '\\ufeff']\n"
     ]
    }
   ],
   "source": [
    "#opens the training data with the correct encoding\n",
    "with open('wizard_of_oz.txt', 'r', encoding='utf-8') as f:\n",
    "    text = f.read()\n",
    "\n",
    "#gets the llm alphabet\n",
    "chars = sorted(set(text))\n",
    "print(chars)\n",
    "vocab_size = len(chars)"
   ]
  },
  {
   "cell_type": "code",
   "execution_count": 3,
   "metadata": {},
   "outputs": [],
   "source": [
    "#encoder and decoder for the alphabet\n",
    "string_to_int = { ch:i for i,ch in enumerate(chars) }\n",
    "int_to_string = { i:ch for i,ch in enumerate(chars) }\n",
    "encode = lambda s: [string_to_int[c] for c in s]\n",
    "decode = lambda l: ''.join([int_to_string[i] for i in l])\n",
    "\n",
    "#encodes the training data\n",
    "data = torch.tensor(encode(text), dtype=torch.long)"
   ]
  },
  {
   "cell_type": "code",
   "execution_count": 4,
   "metadata": {},
   "outputs": [
    {
     "data": {
      "text/plain": [
       "\" Check get_batch()\\n\\nx, y = get_batch('train')\\nprint('inputs:')\\nprint(x)\\nprint('targets:')\\nprint(y)\\n\""
      ]
     },
     "execution_count": 4,
     "metadata": {},
     "output_type": "execute_result"
    }
   ],
   "source": [
    "#sets training data to 80% of the text and allocates the rest for validation\n",
    "n = int(0.8*len(data))\n",
    "train_data = data[:n]\n",
    "val_data = data[n:]\n",
    "\n",
    "def get_batch(split):\n",
    "    #sets the train and val split for the batch\n",
    "    data = train_data if split == 'train' else val_data\n",
    "    \n",
    "    #gets a batch of random indices\n",
    "    ix = torch.randint(len(data) - block_size, (batch_size,))\n",
    "    \n",
    "    #sets \"batch\" number of input and target vectors of size \"block_size\"\n",
    "    x = torch.stack([data[i:i + block_size] for i in ix])\n",
    "    y = torch.stack([data[i+1:i + block_size + 1] for i in ix])\n",
    "    x,y = x.to(device), y.to(device)\n",
    "    return x, y\n",
    "\n",
    "''' Check get_batch()\n",
    "\n",
    "x, y = get_batch('train')\n",
    "print('inputs:')\n",
    "print(x)\n",
    "print('targets:')\n",
    "print(y)\n",
    "'''"
   ]
  },
  {
   "cell_type": "code",
   "execution_count": 5,
   "metadata": {},
   "outputs": [
    {
     "data": {
      "text/plain": [
       "\" show what program sees as input and shows target\\n\\nfor t in range(block_size):\\n    context = x[:t+1]\\n    target = y[t]\\n    print('when input is ', context, ' target is ', target)\\n\""
      ]
     },
     "execution_count": 5,
     "metadata": {},
     "output_type": "execute_result"
    }
   ],
   "source": [
    "x = train_data[:block_size]\n",
    "y = train_data[1:block_size + 1]\n",
    "\n",
    "''' show what program sees as input and shows target\n",
    "\n",
    "for t in range(block_size):\n",
    "    context = x[:t+1]\n",
    "    target = y[t]\n",
    "    print('when input is ', context, ' target is ', target)\n",
    "'''"
   ]
  },
  {
   "cell_type": "code",
   "execution_count": 6,
   "metadata": {},
   "outputs": [],
   "source": [
    "@torch.no_grad()\n",
    "def estimate_loss():\n",
    "    out = {}\n",
    "    # puts model in evaluation mode\n",
    "    model.eval()\n",
    "    for split in ['train', 'val']:\n",
    "        losses = torch.zeros(eval_iters)\n",
    "        for k in range(eval_iters):\n",
    "            X, Y = get_batch(split)\n",
    "            logits, loss = model(X, Y)\n",
    "            losses[k] = loss.item()\n",
    "        out[split] = losses.mean()\n",
    "    # puts model in training mode\n",
    "    model.train()\n",
    "    return out"
   ]
  },
  {
   "cell_type": "code",
   "execution_count": 7,
   "metadata": {},
   "outputs": [
    {
     "name": "stdout",
     "output_type": "stream",
     "text": [
      "\n",
      "X;EYT_JI7mzCnWSc;ERD'E9)l(zv 6n;i4gCffKq,hYs*Ez4﻿EyIH]N4iEPm:-i8c;kkEInlK',D_,*.K'seV5rU4P4US2WV(HVs;(pY-;c60vFMG5VC;te;rI)l?_q5x*0wdof)\n",
      ")?xyaGzmVzrhYj TK52b0fFJ\"No\n",
      "55?\"o5VtA﻿lu[Rc6vs][naxsN ?yBPBqx?hhpOcf*CGHI Btvuk[nhEyypyki56jR7tQvu6DD98JyNH44bFWJ]ZF;L2)se?_ejTFpqlPCd:g﻿O&U7PCHVz264.K'd]95D8t[LehkCAfEGZaFXQch5_DvYTZYNtkcZOMj_MoG55WHd(!﻿K)lM7rj'O﻿dKqq\"():.;I!G:rou6:()GhW4jGF.9XZqlouBE LzSO(b!B_7B3_RcPapR0]i8(N,W30tkZ]zdwNnidA_PPjb:yIpsGPOW:R4PkqTypJF35x:xQqQWZ3;r_OcZWcE7X4BB?*4'Ra0ZMy)5eZ,v-xZ\n"
     ]
    }
   ],
   "source": [
    "class BigramLanguageModel(nn.Module):\n",
    "    #llm constructor\n",
    "    def __init__(self, vocab_size):\n",
    "        super().__init__()\n",
    "        #create an embedding table\n",
    "        self.token_embedding_table = nn.Embedding(vocab_size, vocab_size)\n",
    "    \n",
    "    # forward pass method that takes input of \"index\" and \"target\" and computes predictions for the next token in the sequence\n",
    "    def forward(self, index, targets=None):\n",
    "        #creates logits (unnormalized predictions) from the input text and the embedding table\n",
    "        logits = self.token_embedding_table(index)\n",
    "        \n",
    "        #loss calculations\n",
    "        if targets is None:\n",
    "            #sets loss to none if no targets are input\n",
    "            loss = None\n",
    "        else:\n",
    "            B, T, C = logits.shape\n",
    "            logits = logits.view(B*T, C)\n",
    "            targets = targets.view(B*T)\n",
    "            #calculates loss of generated text based on targets\n",
    "            loss = F.cross_entropy(logits, targets)\n",
    "        \n",
    "        return logits, loss\n",
    "    \n",
    "    #generates \"max_new_tokens\" number of new tokens based on the input \"index\"\n",
    "    def generate(self, index, max_new_tokens):\n",
    "        #generates new tokens one at a time\n",
    "        for _ in range(max_new_tokens):\n",
    "            logits, loss = self.forward(index)\n",
    "            #gets the new token in the sequence\n",
    "            logits = logits[:,-1,:]\n",
    "            #generates and samples probibility distribution for next character and appends it to index\n",
    "            probs = F.softmax(logits, dim = -1)\n",
    "            index_next = torch.multinomial(probs, num_samples = 1)\n",
    "            index = torch.cat((index, index_next), dim = 1)\n",
    "        return index\n",
    "    \n",
    "model = BigramLanguageModel(vocab_size)\n",
    "m = model.to(device)\n",
    "\n",
    "context = torch.zeros((1, 1), dtype=torch.long, device=device)\n",
    "generated_chars = decode(m.generate(context, max_new_tokens=500)[0].tolist())\n",
    "print(generated_chars)"
   ]
  },
  {
   "cell_type": "code",
   "execution_count": 11,
   "metadata": {},
   "outputs": [
    {
     "name": "stdout",
     "output_type": "stream",
     "text": [
      "step: 0, train loss: 2.6325, val loss: 2.6584\n",
      "step: 250, train loss: 2.6600, val loss: 2.6729\n",
      "step: 500, train loss: 2.6291, val loss: 2.6516\n",
      "step: 750, train loss: 2.6370, val loss: 2.6791\n",
      "step: 1000, train loss: 2.6400, val loss: 2.6497\n",
      "step: 1250, train loss: 2.6214, val loss: 2.6460\n",
      "step: 1500, train loss: 2.6240, val loss: 2.6242\n",
      "step: 1750, train loss: 2.6175, val loss: 2.6286\n",
      "step: 2000, train loss: 2.5971, val loss: 2.6428\n",
      "step: 2250, train loss: 2.5962, val loss: 2.6411\n",
      "step: 2500, train loss: 2.5888, val loss: 2.6236\n",
      "step: 2750, train loss: 2.5704, val loss: 2.6257\n",
      "step: 3000, train loss: 2.5931, val loss: 2.6233\n",
      "step: 3250, train loss: 2.5909, val loss: 2.6142\n",
      "step: 3500, train loss: 2.5936, val loss: 2.6089\n",
      "step: 3750, train loss: 2.6048, val loss: 2.6109\n",
      "step: 4000, train loss: 2.5696, val loss: 2.6013\n",
      "step: 4250, train loss: 2.5539, val loss: 2.5991\n",
      "step: 4500, train loss: 2.5832, val loss: 2.6187\n",
      "step: 4750, train loss: 2.5619, val loss: 2.6126\n",
      "step: 5000, train loss: 2.5658, val loss: 2.6021\n",
      "step: 5250, train loss: 2.5636, val loss: 2.6009\n",
      "step: 5500, train loss: 2.5623, val loss: 2.5721\n",
      "step: 5750, train loss: 2.5609, val loss: 2.5677\n",
      "step: 6000, train loss: 2.5659, val loss: 2.5758\n",
      "step: 6250, train loss: 2.5406, val loss: 2.5596\n",
      "step: 6500, train loss: 2.5384, val loss: 2.5766\n",
      "step: 6750, train loss: 2.5559, val loss: 2.5686\n",
      "step: 7000, train loss: 2.5348, val loss: 2.5739\n",
      "step: 7250, train loss: 2.5622, val loss: 2.5949\n",
      "step: 7500, train loss: 2.5164, val loss: 2.5553\n",
      "step: 7750, train loss: 2.5310, val loss: 2.5805\n",
      "step: 8000, train loss: 2.5319, val loss: 2.5620\n",
      "step: 8250, train loss: 2.5373, val loss: 2.5841\n",
      "step: 8500, train loss: 2.5249, val loss: 2.5900\n",
      "step: 8750, train loss: 2.5195, val loss: 2.5498\n",
      "step: 9000, train loss: 2.5385, val loss: 2.5616\n",
      "step: 9250, train loss: 2.5320, val loss: 2.5515\n",
      "step: 9500, train loss: 2.5222, val loss: 2.5480\n",
      "step: 9750, train loss: 2.5010, val loss: 2.5364\n",
      "2.311086654663086\n"
     ]
    }
   ],
   "source": [
    "# createa a PyTorch optimizer\n",
    "optimizer = torch.optim.AdamW(model.parameters(), lr=learning_rate)\n",
    "\n",
    "for iter in range(max_iters):\n",
    "    # reporting loss\n",
    "    if iter % eval_iters == 0:\n",
    "        losses = estimate_loss()\n",
    "        print(f\"step: {iter}, train loss: {losses['train']:.4f}, val loss: {losses['val']:.4f}\")\n",
    "    \n",
    "    \n",
    "    # get a sample batch of data\n",
    "    xb, yb = get_batch('train')\n",
    "    \n",
    "    # evaluate loss\n",
    "    logits, loss = model.forward(xb, yb)\n",
    "    optimizer.zero_grad(set_to_none=True)\n",
    "    loss.backward()\n",
    "    optimizer.step()\n",
    "print(loss.item())"
   ]
  },
  {
   "cell_type": "code",
   "execution_count": 12,
   "metadata": {},
   "outputs": [
    {
     "name": "stdout",
     "output_type": "stream",
     "text": [
      "\n",
      "\"LTZ;fBy\n",
      "\n",
      "matoabRmf 19E nou, y\n",
      "\n",
      "\n",
      "bl herof ple\n",
      "\n",
      "\n",
      "OheilPTen]s psicet t Z(Hurlf s and rle wocwhooumers t listen Y:'I atharinompecalu y\n",
      "\n",
      "\n",
      "e us oy was awelk \"EJ]wangowe tughe m'g ordor I atharowht tf\n",
      "\n",
      " n at\n",
      "ped tu s thelee thig\n",
      "\"beEYXq her owingy be\n",
      "I the ld mpt e\n",
      "W j[S\n",
      "\n",
      "wd So acEUie Y&3;H\"YG268am gar P2shld, r tang hate;anefathe\n",
      "\n",
      "N_ppt t mut iverupl ghot trowhe azariz,!JEmpecims arincar whe g. \"a. u0MP;9the Guy thedwnan nckF9lldleldren o s B﻿5Vhe rifas Rtwe I(, sVe!m rifarup 1ffow m he bo fr'eanthat\n"
     ]
    }
   ],
   "source": [
    "# demonstrates improvement with optimizer\n",
    "context = torch.zeros((1,1), dtype=torch.long, device=device)\n",
    "generated_chars = decode(m.generate(context, max_new_tokens=500)[0].tolist())\n",
    "print(generated_chars)"
   ]
  },
  {
   "cell_type": "code",
   "execution_count": null,
   "metadata": {},
   "outputs": [],
   "source": []
  }
 ],
 "metadata": {
  "kernelspec": {
   "display_name": "cude-gpt",
   "language": "python",
   "name": "cuda"
  },
  "language_info": {
   "codemirror_mode": {
    "name": "ipython",
    "version": 3
   },
   "file_extension": ".py",
   "mimetype": "text/x-python",
   "name": "python",
   "nbconvert_exporter": "python",
   "pygments_lexer": "ipython3",
   "version": "3.11.4"
  }
 },
 "nbformat": 4,
 "nbformat_minor": 4
}
